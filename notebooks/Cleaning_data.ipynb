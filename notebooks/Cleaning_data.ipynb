{
 "cells": [
  {
   "cell_type": "code",
   "execution_count": 13,
   "id": "d9cb8cf4",
   "metadata": {},
   "outputs": [
    {
     "name": "stdout",
     "output_type": "stream",
     "text": [
      "\n",
      "📊 Cleaning summary for Dashen Bank:\n",
      "✅ Cleaned data saved to: ../Data\\Dashen_Bank_reviews_20250606_130804_cleaned.csv\n",
      "Original shape: (448, 5)\n",
      "Cleaned shape : (447, 5)\n",
      "❌ Rows removed: 1\n",
      "\n",
      "📊 Cleaning summary for Commercial Bank of Ethiopia (CBE):\n",
      "✅ Cleaned data saved to: ../Data\\Commercial_Bank_of_Ethiopia_reviews_20250606_130816_cleaned.csv\n",
      "Original shape: (5000, 5)\n",
      "Cleaned shape : (4916, 5)\n",
      "❌ Rows removed: 84\n",
      "\n",
      "📊 Cleaning summary for Bank of Abyssinia (BOA):\n",
      "✅ Cleaned data saved to: ../Data\\Bank_of_Abyssinia_reviews_20250606_130818_cleaned.csv\n",
      "Original shape: (1045, 5)\n",
      "Cleaned shape : (1040, 5)\n",
      "❌ Rows removed: 5\n"
     ]
    }
   ],
   "source": [
    "import sys\n",
    "sys.path.append('../src')  # So you can import from the src folder\n",
    "\n",
    "from preprocessing import preprocess_reviews\n",
    "import pandas as pd\n",
    "\n",
    "# Define paths to your raw review CSV files\n",
    "dashen_path = \"../Data/Dashen_Bank_reviews_20250606_130804.csv\"\n",
    "cbe_path = \"../Data/Commercial_Bank_of_Ethiopia_reviews_20250606_130816.csv\"\n",
    "boa_path = \"../Data/Bank_of_Abyssinia_reviews_20250606_130818.csv\"\n",
    "\n",
    "# Define a utility function for comparison\n",
    "def compare_cleaning(input_path, label):\n",
    "    print(f\"\\n📊 Cleaning summary for {label}:\")\n",
    "    \n",
    "    # Load original data\n",
    "    original_df = pd.read_csv(input_path)\n",
    "    original_shape = original_df.shape\n",
    "\n",
    "    # Preprocess\n",
    "    cleaned_df = preprocess_reviews(input_path)\n",
    "    cleaned_shape = cleaned_df.shape if cleaned_df is not None else (0, 0)\n",
    "\n",
    "    # Print comparison\n",
    "    removed = original_shape[0] - cleaned_shape[0]\n",
    "    print(f\"Original shape: {original_shape}\")\n",
    "    print(f\"Cleaned shape : {cleaned_shape}\")\n",
    "    print(f\"❌ Rows removed: {removed}\")\n",
    "\n",
    "# Run cleaning and comparisons\n",
    "compare_cleaning(dashen_path, \"Dashen Bank\")\n",
    "compare_cleaning(cbe_path, \"Commercial Bank of Ethiopia (CBE)\")\n",
    "compare_cleaning(boa_path, \"Bank of Abyssinia (BOA)\")\n"
   ]
  },
  {
   "cell_type": "markdown",
   "id": "031e513f",
   "metadata": {},
   "source": [
    "✅ Task 1: Review Data Preprocessing Summary\n",
    "As part of the data quality requirements, I ensured:\n",
    "\n",
    "Minimum 400 reviews per bank\n",
    "\n",
    "Less than 5% missing or invalid data\n",
    "\n",
    "📊 Cleaning Results:\n",
    "Bank                 \t                 Original_Reviews\t    Cleaned_Reviews \tRows Removed\t  % Removed\n",
    "Dashen Bank           \t                  448\t                     447\t           1\t             0.22%\n",
    "Commercial Bank of Ethiopia (CBE)\t      5000\t                    4916         \t  84\t              1.68%\n",
    "Bank of Abyssinia (BOA)\t                  1045\t                    1040         \t   5\t              0.48%\n",
    "\n",
    "✅ Summary:\n",
    "All three banks meet the minimum review count requirement (≥ 400).\n",
    "\n",
    "All cleaned datasets have less than 5% removed entries, satisfying the <5% error tolerance requirement.\n",
    "\n",
    "Cleaned data has been saved to CSV files and is now ready for sentiment and theme analysis."
   ]
  }
 ],
 "metadata": {
  "kernelspec": {
   "display_name": ".venv",
   "language": "python",
   "name": "python3"
  },
  "language_info": {
   "codemirror_mode": {
    "name": "ipython",
    "version": 3
   },
   "file_extension": ".py",
   "mimetype": "text/x-python",
   "name": "python",
   "nbconvert_exporter": "python",
   "pygments_lexer": "ipython3",
   "version": "3.13.3"
  }
 },
 "nbformat": 4,
 "nbformat_minor": 5
}
